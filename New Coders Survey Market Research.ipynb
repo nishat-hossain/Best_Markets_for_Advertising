{
 "cells": [
  {
   "cell_type": "markdown",
   "metadata": {
    "collapsed": true
   },
   "source": [
    "<h2>New Coders Survey Market Research<h2>"
   ]
  },
  {
   "cell_type": "markdown",
   "metadata": {},
   "source": [
    "Our goal in this project is to find out the two best markets to advertise an e-learning product that offers courses on programming"
   ]
  },
  {
   "cell_type": "markdown",
   "metadata": {},
   "source": [
    "To avoid spending money on organizing a survey, we'll first try to make use of existing data to determine whether we can reach any reliable result. \n",
    "\n",
    "freeCodeCamp's 2017 New Coder Survey is a good free resource for relevant data. freeCodeCamp is a free e-learning platform that offers courses on web development. Because they run a popular [Medium publication](https://www.freecodecamp.org/news/) (over 400,000 followers), their survey attracted new coders with varying interests (not only web development), which is ideal for the purpose of our analysis. \n",
    "\n",
    "The survey data is publicly available in this [GitHub repository](https://github.com/freeCodeCamp/2017-new-coder-survey). Below, we'll do a quick exploration of the 2017-fCC-New-Coders-Survey-Data.csv file stored in the clean-data folder of the repository we just mentioned. We'll read in the file using the direct link [here](https://raw.githubusercontent.com/freeCodeCamp/2017-new-coder-survey/master/clean-data/2017-fCC-New-Coders-Survey-Data.csv)."
   ]
  },
  {
   "cell_type": "markdown",
   "metadata": {},
   "source": [
    "<h3>Exploring the Data<h3>"
   ]
  },
  {
   "cell_type": "code",
   "execution_count": 81,
   "metadata": {},
   "outputs": [
    {
     "name": "stdout",
     "output_type": "stream",
     "text": [
      "Age                    float64\n",
      "AttendedBootcamp       float64\n",
      "BootcampFinish         float64\n",
      "BootcampLoanYesNo      float64\n",
      "BootcampName            object\n",
      "                        ...   \n",
      "YouTubeMIT             float64\n",
      "YouTubeMozillaHacks    float64\n",
      "YouTubeOther            object\n",
      "YouTubeSimplilearn     float64\n",
      "YouTubeTheNewBoston    float64\n",
      "Length: 136, dtype: object\n",
      "18175 136\n"
     ]
    },
    {
     "data": {
      "text/html": [
       "<div>\n",
       "<style scoped>\n",
       "    .dataframe tbody tr th:only-of-type {\n",
       "        vertical-align: middle;\n",
       "    }\n",
       "\n",
       "    .dataframe tbody tr th {\n",
       "        vertical-align: top;\n",
       "    }\n",
       "\n",
       "    .dataframe thead th {\n",
       "        text-align: right;\n",
       "    }\n",
       "</style>\n",
       "<table border=\"1\" class=\"dataframe\">\n",
       "  <thead>\n",
       "    <tr style=\"text-align: right;\">\n",
       "      <th></th>\n",
       "      <th>Age</th>\n",
       "      <th>AttendedBootcamp</th>\n",
       "      <th>BootcampFinish</th>\n",
       "      <th>BootcampLoanYesNo</th>\n",
       "      <th>BootcampName</th>\n",
       "      <th>BootcampRecommend</th>\n",
       "      <th>ChildrenNumber</th>\n",
       "      <th>CityPopulation</th>\n",
       "      <th>CodeEventConferences</th>\n",
       "      <th>CodeEventDjangoGirls</th>\n",
       "      <th>...</th>\n",
       "      <th>YouTubeFCC</th>\n",
       "      <th>YouTubeFunFunFunction</th>\n",
       "      <th>YouTubeGoogleDev</th>\n",
       "      <th>YouTubeLearnCode</th>\n",
       "      <th>YouTubeLevelUpTuts</th>\n",
       "      <th>YouTubeMIT</th>\n",
       "      <th>YouTubeMozillaHacks</th>\n",
       "      <th>YouTubeOther</th>\n",
       "      <th>YouTubeSimplilearn</th>\n",
       "      <th>YouTubeTheNewBoston</th>\n",
       "    </tr>\n",
       "  </thead>\n",
       "  <tbody>\n",
       "    <tr>\n",
       "      <th>0</th>\n",
       "      <td>27.0</td>\n",
       "      <td>0.0</td>\n",
       "      <td>NaN</td>\n",
       "      <td>NaN</td>\n",
       "      <td>NaN</td>\n",
       "      <td>NaN</td>\n",
       "      <td>NaN</td>\n",
       "      <td>more than 1 million</td>\n",
       "      <td>NaN</td>\n",
       "      <td>NaN</td>\n",
       "      <td>...</td>\n",
       "      <td>NaN</td>\n",
       "      <td>NaN</td>\n",
       "      <td>NaN</td>\n",
       "      <td>NaN</td>\n",
       "      <td>NaN</td>\n",
       "      <td>NaN</td>\n",
       "      <td>NaN</td>\n",
       "      <td>NaN</td>\n",
       "      <td>NaN</td>\n",
       "      <td>NaN</td>\n",
       "    </tr>\n",
       "    <tr>\n",
       "      <th>1</th>\n",
       "      <td>34.0</td>\n",
       "      <td>0.0</td>\n",
       "      <td>NaN</td>\n",
       "      <td>NaN</td>\n",
       "      <td>NaN</td>\n",
       "      <td>NaN</td>\n",
       "      <td>NaN</td>\n",
       "      <td>less than 100,000</td>\n",
       "      <td>NaN</td>\n",
       "      <td>NaN</td>\n",
       "      <td>...</td>\n",
       "      <td>1.0</td>\n",
       "      <td>NaN</td>\n",
       "      <td>NaN</td>\n",
       "      <td>NaN</td>\n",
       "      <td>NaN</td>\n",
       "      <td>NaN</td>\n",
       "      <td>NaN</td>\n",
       "      <td>NaN</td>\n",
       "      <td>NaN</td>\n",
       "      <td>NaN</td>\n",
       "    </tr>\n",
       "    <tr>\n",
       "      <th>2</th>\n",
       "      <td>21.0</td>\n",
       "      <td>0.0</td>\n",
       "      <td>NaN</td>\n",
       "      <td>NaN</td>\n",
       "      <td>NaN</td>\n",
       "      <td>NaN</td>\n",
       "      <td>NaN</td>\n",
       "      <td>more than 1 million</td>\n",
       "      <td>NaN</td>\n",
       "      <td>NaN</td>\n",
       "      <td>...</td>\n",
       "      <td>NaN</td>\n",
       "      <td>NaN</td>\n",
       "      <td>NaN</td>\n",
       "      <td>1.0</td>\n",
       "      <td>1.0</td>\n",
       "      <td>NaN</td>\n",
       "      <td>NaN</td>\n",
       "      <td>NaN</td>\n",
       "      <td>NaN</td>\n",
       "      <td>NaN</td>\n",
       "    </tr>\n",
       "    <tr>\n",
       "      <th>3</th>\n",
       "      <td>26.0</td>\n",
       "      <td>0.0</td>\n",
       "      <td>NaN</td>\n",
       "      <td>NaN</td>\n",
       "      <td>NaN</td>\n",
       "      <td>NaN</td>\n",
       "      <td>NaN</td>\n",
       "      <td>between 100,000 and 1 million</td>\n",
       "      <td>NaN</td>\n",
       "      <td>NaN</td>\n",
       "      <td>...</td>\n",
       "      <td>1.0</td>\n",
       "      <td>1.0</td>\n",
       "      <td>NaN</td>\n",
       "      <td>NaN</td>\n",
       "      <td>1.0</td>\n",
       "      <td>NaN</td>\n",
       "      <td>NaN</td>\n",
       "      <td>NaN</td>\n",
       "      <td>NaN</td>\n",
       "      <td>NaN</td>\n",
       "    </tr>\n",
       "    <tr>\n",
       "      <th>4</th>\n",
       "      <td>20.0</td>\n",
       "      <td>0.0</td>\n",
       "      <td>NaN</td>\n",
       "      <td>NaN</td>\n",
       "      <td>NaN</td>\n",
       "      <td>NaN</td>\n",
       "      <td>NaN</td>\n",
       "      <td>between 100,000 and 1 million</td>\n",
       "      <td>NaN</td>\n",
       "      <td>NaN</td>\n",
       "      <td>...</td>\n",
       "      <td>NaN</td>\n",
       "      <td>NaN</td>\n",
       "      <td>NaN</td>\n",
       "      <td>NaN</td>\n",
       "      <td>NaN</td>\n",
       "      <td>NaN</td>\n",
       "      <td>NaN</td>\n",
       "      <td>NaN</td>\n",
       "      <td>NaN</td>\n",
       "      <td>NaN</td>\n",
       "    </tr>\n",
       "  </tbody>\n",
       "</table>\n",
       "<p>5 rows × 136 columns</p>\n",
       "</div>"
      ],
      "text/plain": [
       "    Age  AttendedBootcamp  BootcampFinish  BootcampLoanYesNo BootcampName  \\\n",
       "0  27.0               0.0             NaN                NaN          NaN   \n",
       "1  34.0               0.0             NaN                NaN          NaN   \n",
       "2  21.0               0.0             NaN                NaN          NaN   \n",
       "3  26.0               0.0             NaN                NaN          NaN   \n",
       "4  20.0               0.0             NaN                NaN          NaN   \n",
       "\n",
       "   BootcampRecommend  ChildrenNumber                 CityPopulation  \\\n",
       "0                NaN             NaN            more than 1 million   \n",
       "1                NaN             NaN              less than 100,000   \n",
       "2                NaN             NaN            more than 1 million   \n",
       "3                NaN             NaN  between 100,000 and 1 million   \n",
       "4                NaN             NaN  between 100,000 and 1 million   \n",
       "\n",
       "   CodeEventConferences  CodeEventDjangoGirls  ...  YouTubeFCC  \\\n",
       "0                   NaN                   NaN  ...         NaN   \n",
       "1                   NaN                   NaN  ...         1.0   \n",
       "2                   NaN                   NaN  ...         NaN   \n",
       "3                   NaN                   NaN  ...         1.0   \n",
       "4                   NaN                   NaN  ...         NaN   \n",
       "\n",
       "   YouTubeFunFunFunction  YouTubeGoogleDev  YouTubeLearnCode  \\\n",
       "0                    NaN               NaN               NaN   \n",
       "1                    NaN               NaN               NaN   \n",
       "2                    NaN               NaN               1.0   \n",
       "3                    1.0               NaN               NaN   \n",
       "4                    NaN               NaN               NaN   \n",
       "\n",
       "   YouTubeLevelUpTuts  YouTubeMIT  YouTubeMozillaHacks YouTubeOther  \\\n",
       "0                 NaN         NaN                  NaN          NaN   \n",
       "1                 NaN         NaN                  NaN          NaN   \n",
       "2                 1.0         NaN                  NaN          NaN   \n",
       "3                 1.0         NaN                  NaN          NaN   \n",
       "4                 NaN         NaN                  NaN          NaN   \n",
       "\n",
       "   YouTubeSimplilearn  YouTubeTheNewBoston  \n",
       "0                 NaN                  NaN  \n",
       "1                 NaN                  NaN  \n",
       "2                 NaN                  NaN  \n",
       "3                 NaN                  NaN  \n",
       "4                 NaN                  NaN  \n",
       "\n",
       "[5 rows x 136 columns]"
      ]
     },
     "execution_count": 81,
     "metadata": {},
     "output_type": "execute_result"
    }
   ],
   "source": [
    "import pandas as pd\n",
    "direct_link = 'https://raw.githubusercontent.com/freeCodeCamp/2017-new-coder-survey/master/clean-data/2017-fCC-New-Coders-Survey-Data.csv'\n",
    "survey = pd.read_csv(direct_link, low_memory=False)\n",
    "\n",
    "#Get data structure\n",
    "num_rows = survey.shape[0]\n",
    "num_cols = survey.shape[1]\n",
    "col_data_types = survey.dtypes\n",
    "print(col_data_types)\n",
    "print(num_rows, num_cols)\n",
    "\n",
    "#Explore first 5 rows\n",
    "survey.head(5)"
   ]
  },
  {
   "cell_type": "markdown",
   "metadata": {},
   "source": [
    "There are many null values. We will address these depending on which columns we end up using after digging into the data a bit more."
   ]
  },
  {
   "cell_type": "markdown",
   "metadata": {},
   "source": [
    "<h3>Checking for Sample Representativity<h3>"
   ]
  },
  {
   "cell_type": "markdown",
   "metadata": {},
   "source": [
    "As we mentioned in the introduction, most of our courses are on web and mobile development, but we also cover many other domains, like data science, game development, etc. For the purpose of our analysis, we want to answer questions about a population of new coders that are interested in the subjects we teach. We'd like to know:\n",
    "\n",
    "1) Where are these new coders located.\n",
    "2) What locations have the greatest densities of new coders.\n",
    "3) How much money they're willing to spend on learning.\n",
    "\n",
    "So we first need to clarify whether the data set has the right categories of people for our purpose. The `JobRoleInterest` column describes for every participant the role(s) they'd be interested in working in. If a participant is interested in working in a certain domain, it means that they're also interested in learning about that domain. So let's take a look at the frequency distribution table of this column and determine whether the data we have is relevant."
   ]
  },
  {
   "cell_type": "code",
   "execution_count": 82,
   "metadata": {},
   "outputs": [
    {
     "data": {
      "text/plain": [
       "Full-Stack Web Developer                                                                                                                                                                                                                                                                    11.770595\n",
       "  Front-End Web Developer                                                                                                                                                                                                                                                                    6.435927\n",
       "  Data Scientist                                                                                                                                                                                                                                                                             2.173913\n",
       "Back-End Web Developer                                                                                                                                                                                                                                                                       2.030892\n",
       "  Mobile Developer                                                                                                                                                                                                                                                                           1.673341\n",
       "                                                                                                                                                                                                                                                                                              ...    \n",
       "  Front-End Web Developer,   DevOps / SysAdmin,   Mobile Developer, Full-Stack Web Developer                                                                                                                                                                                                 0.014302\n",
       "Back-End Web Developer,   Front-End Web Developer, Data Engineer, Full-Stack Web Developer,   Mobile Developer                                                                                                                                                                               0.014302\n",
       "Back-End Web Developer,   User Experience Designer,   Mobile Developer, Game Developer,   Front-End Web Developer, Full-Stack Web Developer                                                                                                                                                  0.014302\n",
       "  Front-End Web Developer,   Mobile Developer, Back-End Web Developer, Full-Stack Web Developer, Data Engineer                                                                                                                                                                               0.014302\n",
       "  DevOps / SysAdmin,   Mobile Developer,   Product Manager, Game Developer,   Front-End Web Developer, Data Engineer,   Quality Assurance Engineer,   User Experience Designer, Back-End Web Developer,   Data Scientist, Full-Stack Web Developer, Information Security, IT specialist      0.014302\n",
       "Name: JobRoleInterest, Length: 3213, dtype: float64"
      ]
     },
     "execution_count": 82,
     "metadata": {},
     "output_type": "execute_result"
    }
   ],
   "source": [
    "survey[\"JobRoleInterest\"].value_counts(normalize=True)*100"
   ]
  },
  {
   "cell_type": "markdown",
   "metadata": {},
   "source": [
    "The information in the table above is quite granular, but from a quick scan it looks like:\n",
    "\n",
    "• A lot of people are interested in web development (full-stack web development, front-end web development and back-end web development). <br>\n",
    "• A few people are interested in mobile development.<br>\n",
    "• A few people are interested in domains other than web and mobile development.<br>\n",
    "\n",
    "It's also interesting to note that many respondents are interested in more than one subject. It'd be useful to get a better picture of how many people are interested in a single subject and how many have mixed interests. Consequently, in the next code block, we'll:\n",
    "\n",
    "• Split each string in the `JobRoleInterest` column to find the number of options for each participant.<br>\n",
    "• We'll first drop the null values because we can't split Nan values.<br>\n",
    "• Generate a frequency table for the variable describing the number of options.<br>\n"
   ]
  },
  {
   "cell_type": "code",
   "execution_count": 83,
   "metadata": {},
   "outputs": [
    {
     "data": {
      "text/plain": [
       "1     31.650458\n",
       "3     15.889588\n",
       "4     15.217391\n",
       "5     12.042334\n",
       "2     10.883867\n",
       "6      6.721968\n",
       "7      3.861556\n",
       "8      1.759153\n",
       "9      0.986842\n",
       "10     0.471968\n",
       "12     0.300343\n",
       "11     0.185927\n",
       "13     0.028604\n",
       "Name: JobRoleInterest, dtype: float64"
      ]
     },
     "execution_count": 83,
     "metadata": {},
     "output_type": "execute_result"
    }
   ],
   "source": [
    "interest_no_null = survey[\"JobRoleInterest\"].dropna()\n",
    "split_interest = interest_no_null.str.split(\",\")\n",
    "\n",
    "#Frequency table to show number of people by number of topics of interest\n",
    "topic_count = split_interest.apply(lambda x: len(x)) #x is list of job options here\n",
    "topic_count.value_counts(normalize=True)*100"
   ]
  },
  {
   "cell_type": "markdown",
   "metadata": {},
   "source": [
    "<h3>Web vs. Mobile<h3>"
   ]
  },
  {
   "cell_type": "markdown",
   "metadata": {},
   "source": [
    "It turns out that only 31.7% of the participants have a clear idea about what programming niche they'd like to work in, while the vast majority of students have mixed interests. But given that we offer courses on various subjects, the fact that new coders have mixed interest might be actually good for us.\n",
    "\n",
    "The focus of our courses is on web and mobile development, so let's find out how many respondents chose at least one of these two options.\n"
   ]
  },
  {
   "cell_type": "code",
   "execution_count": 84,
   "metadata": {},
   "outputs": [
    {
     "name": "stdout",
     "output_type": "stream",
     "text": [
      "True     86.241419\n",
      "False    13.758581\n",
      "Name: JobRoleInterest, dtype: float64\n"
     ]
    },
    {
     "data": {
      "image/png": "[encoded data removed]",
      "text/plain": [
       "<Figure size 640x480 with 1 Axes>"
      ]
     },
     "metadata": {},
     "output_type": "display_data"
    }
   ],
   "source": [
    "#Generate a frequency table\n",
    "web_or_mobile = interest_no_null.str.contains(\n",
    "    \"Web Developer|Mobile Developer\") #returns a boolean array with counts\n",
    "\n",
    "freq_table = web_or_mobile.value_counts(normalize=True)*100\n",
    "print(freq_table)\n",
    "\n",
    "#Graph of the above table\n",
    "%matplotlib inline\n",
    "import matplotlib.pyplot as plt\n",
    "plt.style.use('fivethirtyeight')\n",
    "freq_table.plot.bar()\n",
    "plt.title(\"Most New Coders are Interested in \\nWeb or Mobile Development\")\n",
    "plt.ylabel(\"Percentage\")\n",
    "plt.xticks([0,1],['Web or mobile\\ndevelopment', 'Other subject'], rotation=0)\n",
    "plt.ylim(0,100)\n",
    "plt.show()"
   ]
  },
  {
   "cell_type": "markdown",
   "metadata": {},
   "source": [
    "It turns out that most people in this survey (roughly 86%) are interested in either web or mobile development. These figures offer us a strong reason to consider this sample representative for our population of interest. We want to advertise our courses to people interested in all sorts of programming niches but mostly web and mobile development."
   ]
  },
  {
   "cell_type": "markdown",
   "metadata": {},
   "source": [
    "<h3>Finding the Best Markets<h3>"
   ]
  },
  {
   "cell_type": "markdown",
   "metadata": {},
   "source": [
    "Now we need to figure out what are the best markets to invest money in for advertising our courses. We'd like to know:\n",
    "\n",
    "• Where are these new coders located.<br>\n",
    "• What are the locations with the greatest number of new coders.<br>\n",
    "• How much money new coders are willing to spend on learning.<br>"
   ]
  },
  {
   "cell_type": "code",
   "execution_count": 85,
   "metadata": {},
   "outputs": [
    {
     "data": {
      "text/html": [
       "<div>\n",
       "<style scoped>\n",
       "    .dataframe tbody tr th:only-of-type {\n",
       "        vertical-align: middle;\n",
       "    }\n",
       "\n",
       "    .dataframe tbody tr th {\n",
       "        vertical-align: top;\n",
       "    }\n",
       "\n",
       "    .dataframe thead th {\n",
       "        text-align: right;\n",
       "    }\n",
       "</style>\n",
       "<table border=\"1\" class=\"dataframe\">\n",
       "  <thead>\n",
       "    <tr style=\"text-align: right;\">\n",
       "      <th></th>\n",
       "      <th>Absolute Frequency</th>\n",
       "      <th>Percentage</th>\n",
       "    </tr>\n",
       "  </thead>\n",
       "  <tbody>\n",
       "    <tr>\n",
       "      <th>United States of America</th>\n",
       "      <td>3125</td>\n",
       "      <td>45.700497</td>\n",
       "    </tr>\n",
       "    <tr>\n",
       "      <th>India</th>\n",
       "      <td>528</td>\n",
       "      <td>7.721556</td>\n",
       "    </tr>\n",
       "    <tr>\n",
       "      <th>United Kingdom</th>\n",
       "      <td>315</td>\n",
       "      <td>4.606610</td>\n",
       "    </tr>\n",
       "    <tr>\n",
       "      <th>Canada</th>\n",
       "      <td>260</td>\n",
       "      <td>3.802281</td>\n",
       "    </tr>\n",
       "    <tr>\n",
       "      <th>Poland</th>\n",
       "      <td>131</td>\n",
       "      <td>1.915765</td>\n",
       "    </tr>\n",
       "    <tr>\n",
       "      <th>...</th>\n",
       "      <td>...</td>\n",
       "      <td>...</td>\n",
       "    </tr>\n",
       "    <tr>\n",
       "      <th>Liberia</th>\n",
       "      <td>1</td>\n",
       "      <td>0.014624</td>\n",
       "    </tr>\n",
       "    <tr>\n",
       "      <th>Papua New Guinea</th>\n",
       "      <td>1</td>\n",
       "      <td>0.014624</td>\n",
       "    </tr>\n",
       "    <tr>\n",
       "      <th>Guadeloupe</th>\n",
       "      <td>1</td>\n",
       "      <td>0.014624</td>\n",
       "    </tr>\n",
       "    <tr>\n",
       "      <th>Gibraltar</th>\n",
       "      <td>1</td>\n",
       "      <td>0.014624</td>\n",
       "    </tr>\n",
       "    <tr>\n",
       "      <th>Gambia</th>\n",
       "      <td>1</td>\n",
       "      <td>0.014624</td>\n",
       "    </tr>\n",
       "  </tbody>\n",
       "</table>\n",
       "<p>137 rows × 2 columns</p>\n",
       "</div>"
      ],
      "text/plain": [
       "                          Absolute Frequency  Percentage\n",
       "United States of America                3125   45.700497\n",
       "India                                    528    7.721556\n",
       "United Kingdom                           315    4.606610\n",
       "Canada                                   260    3.802281\n",
       "Poland                                   131    1.915765\n",
       "...                                      ...         ...\n",
       "Liberia                                    1    0.014624\n",
       "Papua New Guinea                           1    0.014624\n",
       "Guadeloupe                                 1    0.014624\n",
       "Gibraltar                                  1    0.014624\n",
       "Gambia                                     1    0.014624\n",
       "\n",
       "[137 rows x 2 columns]"
      ]
     },
     "execution_count": 85,
     "metadata": {},
     "output_type": "execute_result"
    }
   ],
   "source": [
    "#drop all the rows where participants didn't answer what role they are interested in\n",
    "survey_good = survey[survey[\"JobRoleInterest\"].notnull()]\n",
    "survey_good = survey_good.copy()\n",
    "\n",
    "#Create frequency table for CountryLive column\n",
    "absolute_freq = survey_good[\"CountryLive\"].value_counts()\n",
    "relative_freq = survey_good[\"CountryLive\"].value_counts(normalize=True)*100\n",
    "\n",
    "# Display the frequency tables in a more readable format\n",
    "pd.DataFrame(data = {\"Absolute Frequency\": absolute_freq,\n",
    "                    \"Percentage\": relative_freq})"
   ]
  },
  {
   "cell_type": "markdown",
   "metadata": {},
   "source": [
    "45.7% of our potential customers are located in the US, and this definitely seems like the most interesting market. India has the second customer density, but it's just 7.7%, which is not too far from the United Kingdom (4.6%) or Canada (3.8%).\n",
    "\n",
    "This is useful information, but we need to go more in depth than this and figure out how much money people are actually willing to spend on learning. Advertising in high-density markets where most people are only willing to learn for free is unlikely to be profitable for us."
   ]
  },
  {
   "cell_type": "markdown",
   "metadata": {},
   "source": [
    "<h3>Spending Money for Learning<h3>"
   ]
  },
  {
   "cell_type": "markdown",
   "metadata": {},
   "source": [
    "The `MoneyForLearning` column describes in American dollars the amount of money spent by participants from the moment they started coding until the moment they completed the survey. Our company sells subscriptions at a price of $59 per month, and for this reason we're interested in finding out how much money each student spends per month.\n",
    "\n",
    "We'll narrow down our analysis to only four countries: the US, India, the United Kingdom, and Canada. We do this for two reasons:\n",
    "\n",
    "• These are the countries having the highest frequency in the frequency table above, which means we have a decent amount of data for each.<br>\n",
    "• Our courses are written in English, and English is an official language in all these four countries. The more people know English, the better our chances to target the right people with our ads.<br>\n",
    "\n",
    "Let's start with creating a new column that describes the amount of money a student has spent per month so far. To do that, we'll need to divide the `MoneyForLearning` column by the `MonthsProgramming` column. The problem is that some students answered that they have been learning to code for 0 months (it might be that they have just started). To avoid dividing by 0, we'll replace 0 with 1 in the `MonthsProgramming` column."
   ]
  },
  {
   "cell_type": "code",
   "execution_count": 86,
   "metadata": {},
   "outputs": [
    {
     "data": {
      "text/plain": [
       "675"
      ]
     },
     "execution_count": 86,
     "metadata": {},
     "output_type": "execute_result"
    }
   ],
   "source": [
    "# Replace 0s with 1s to avoid division by 0\n",
    "survey_good[\"MonthsProgramming\"].replace(0,1,inplace=True)\n",
    "\n",
    "#Create new column for money spent per month for each student\n",
    "survey_good[\"money_per_month\"] = survey_good[\"MoneyForLearning\"]/survey_good[\"MonthsProgramming\"]\n",
    "survey_good[\"money_per_month\"].isnull().sum()"
   ]
  },
  {
   "cell_type": "code",
   "execution_count": 87,
   "metadata": {},
   "outputs": [
    {
     "data": {
      "text/plain": [
       "United States of America    2933\n",
       "India                        463\n",
       "United Kingdom               279\n",
       "Canada                       240\n",
       "Poland                       122\n",
       "Name: CountryLive, dtype: int64"
      ]
     },
     "execution_count": 87,
     "metadata": {},
     "output_type": "execute_result"
    }
   ],
   "source": [
    "#keep only the rows that don't have null values for the money_per_month column.\n",
    "survey_good = survey_good[survey_good[\"money_per_month\"].notnull()]\n",
    "\n",
    "# Remove the rows with null values in 'CountryLive'\n",
    "survey_good = survey_good[survey_good[\"CountryLive\"].notnull()]\n",
    "\n",
    "#Create frequency table to see if we still have sufficient data\n",
    "survey_good[\"CountryLive\"].value_counts().head()"
   ]
  },
  {
   "cell_type": "markdown",
   "metadata": {},
   "source": [
    "This should be enough, so let's compute the average value spent per month in each country by a student. We'll compute the average using the mean."
   ]
  },
  {
   "cell_type": "code",
   "execution_count": 88,
   "metadata": {},
   "outputs": [
    {
     "name": "stdout",
     "output_type": "stream",
     "text": [
      "CountryLive\n",
      "United States of America    227.997996\n",
      "India                       135.100982\n",
      "United Kingdom               45.534443\n",
      "Canada                      113.510961\n",
      "Name: money_per_month, dtype: float64\n"
     ]
    }
   ],
   "source": [
    "#Mean sum of money spent by students each month\n",
    "country_group = survey_good.groupby(\"CountryLive\")[\"money_per_month\"].mean()\n",
    "country_mean = country_group[['United States of America',\n",
    "                            'India', 'United Kingdom',\n",
    "                            'Canada']]\n",
    "print(country_mean)"
   ]
  },
  {
   "cell_type": "markdown",
   "metadata": {},
   "source": [
    "If we considered a few socio-economical metrics (like GDP per capita), we'd intuitively expect people in the UK and Canada to spend more on learning than people in India. Therefore, the results for the United Kingdom and Canada are a bit surprising relative to the values we see for India.\n",
    "\n",
    "It might be that we don't have have enough representative data for the United Kingdom and Canada, or we have some outliers (maybe coming from wrong survey answers) making the mean too large for India, or too low for the UK and Canada. Or it might be that the results are correct."
   ]
  },
  {
   "cell_type": "markdown",
   "metadata": {},
   "source": [
    "<h3>Accounting for Extreme Outliers<h3>"
   ]
  },
  {
   "cell_type": "markdown",
   "metadata": {},
   "source": [
    "Let's use box plots to visualize the distribution of the \"money_per_month\" variable for each country."
   ]
  },
  {
   "cell_type": "code",
   "execution_count": 89,
   "metadata": {},
   "outputs": [
    {
     "data": {
      "image/png": "[encoded data removed]",
      "text/plain": [
       "<Figure size 640x480 with 1 Axes>"
      ]
     },
     "metadata": {},
     "output_type": "display_data"
    }
   ],
   "source": [
    "#Isolate data for the relevant countries\n",
    "relevant_countries = survey_good[survey_good[\"CountryLive\"].str.contains(\n",
    "    \"United States of America|India|United Kingdom|Canada\")]\n",
    "\n",
    "#Box plots to visualize the distribution\n",
    "import seaborn as sns\n",
    "sns.boxplot(y=\"money_per_month\", x=\"CountryLive\", data=relevant_countries)\n",
    "plt.title(\"Money Spent Per Month Per Country\\n(Distributions)\")\n",
    "plt.ylabel(\"Money Spent per Month (US Dollars)\")\n",
    "plt.xlabel(\"Country\")\n",
    "plt.xticks(range(4),[\"US\",\"UK\",\"India\",\"Canada\"]) #avoid tick label overlapping text\n",
    "plt.show()\n"
   ]
  },
  {
   "cell_type": "markdown",
   "metadata": {},
   "source": [
    "It's hard to see on the plot above if there's anything wrong with the data for the United Kingdom, India, or Canada, but we can see immediately that there's something really off for the US: two people spend more than \\\\$50k per month for learning. This isn't impossible, but seems very unlikely, so we will remove every value that goes over \\\\$20k, and then take a second look for remaining outliers. "
   ]
  },
  {
   "cell_type": "code",
   "execution_count": 90,
   "metadata": {},
   "outputs": [
    {
     "name": "stdout",
     "output_type": "stream",
     "text": [
      "CountryLive\n",
      "United States of America    183.800110\n",
      "India                       135.100982\n",
      "United Kingdom               45.534443\n",
      "Canada                      113.510961\n",
      "Name: money_per_month, dtype: float64\n"
     ]
    }
   ],
   "source": [
    "# Isolate for new coders who spend less than $20k per month\n",
    "survey_good = survey_good[survey_good['money_per_month']<20000]\n",
    "\n",
    "# Recompute mean sum of money spent by students each month & re\n",
    "country_group = survey_good.groupby(\"CountryLive\")[\"money_per_month\"].mean()\n",
    "country_mean = country_group[['United States of America',\n",
    "                            'India', 'United Kingdom',\n",
    "                            'Canada']]\n",
    "print(country_mean)"
   ]
  },
  {
   "cell_type": "code",
   "execution_count": 91,
   "metadata": {},
   "outputs": [
    {
     "data": {
      "image/png": "[encoded data removed]",
      "text/plain": [
       "<Figure size 640x480 with 1 Axes>"
      ]
     },
     "metadata": {},
     "output_type": "display_data"
    }
   ],
   "source": [
    "# Box plots to visualize distributions\n",
    "\n",
    "relevant_countries = survey_good[survey_good[\"CountryLive\"].str.contains(\n",
    "    \"United States of America|India|United Kingdom|Canada\")]\n",
    "sns.boxplot(y=\"money_per_month\", x=\"CountryLive\", data=relevant_countries)\n",
    "plt.title(\"Money Spent Per Month Per Country\\n(Distributions)\")\n",
    "plt.ylabel(\"Money Spent per Month (US Dollars)\")\n",
    "plt.xlabel(\"Country\")\n",
    "plt.xticks(range(4),[\"US\",\"UK\",\"India\",\"Canada\"]) #avoid tick label overlapping text\n",
    "plt.show()"
   ]
  },
  {
   "cell_type": "markdown",
   "metadata": {},
   "source": [
    "We see a few outliers for India & Canada, as well as a few more outliers for the US. Let's explore them. For India there are a few values over \\\\$2500 per month. While for Canada there's one person who spends roughly \\\\$5000 per month. Let's take a closer look at these data points to determine whether they are useful data. "
   ]
  },
  {
   "cell_type": "code",
   "execution_count": 92,
   "metadata": {},
   "outputs": [
    {
     "data": {
      "text/html": [
       "<div>\n",
       "<style scoped>\n",
       "    .dataframe tbody tr th:only-of-type {\n",
       "        vertical-align: middle;\n",
       "    }\n",
       "\n",
       "    .dataframe tbody tr th {\n",
       "        vertical-align: top;\n",
       "    }\n",
       "\n",
       "    .dataframe thead th {\n",
       "        text-align: right;\n",
       "    }\n",
       "</style>\n",
       "<table border=\"1\" class=\"dataframe\">\n",
       "  <thead>\n",
       "    <tr style=\"text-align: right;\">\n",
       "      <th></th>\n",
       "      <th>Age</th>\n",
       "      <th>AttendedBootcamp</th>\n",
       "      <th>BootcampFinish</th>\n",
       "      <th>BootcampLoanYesNo</th>\n",
       "      <th>BootcampName</th>\n",
       "      <th>BootcampRecommend</th>\n",
       "      <th>ChildrenNumber</th>\n",
       "      <th>CityPopulation</th>\n",
       "      <th>CodeEventConferences</th>\n",
       "      <th>CodeEventDjangoGirls</th>\n",
       "      <th>...</th>\n",
       "      <th>YouTubeFunFunFunction</th>\n",
       "      <th>YouTubeGoogleDev</th>\n",
       "      <th>YouTubeLearnCode</th>\n",
       "      <th>YouTubeLevelUpTuts</th>\n",
       "      <th>YouTubeMIT</th>\n",
       "      <th>YouTubeMozillaHacks</th>\n",
       "      <th>YouTubeOther</th>\n",
       "      <th>YouTubeSimplilearn</th>\n",
       "      <th>YouTubeTheNewBoston</th>\n",
       "      <th>money_per_month</th>\n",
       "    </tr>\n",
       "  </thead>\n",
       "  <tbody>\n",
       "    <tr>\n",
       "      <th>13659</th>\n",
       "      <td>24.0</td>\n",
       "      <td>1.0</td>\n",
       "      <td>0.0</td>\n",
       "      <td>0.0</td>\n",
       "      <td>Bloc.io</td>\n",
       "      <td>1.0</td>\n",
       "      <td>NaN</td>\n",
       "      <td>more than 1 million</td>\n",
       "      <td>1.0</td>\n",
       "      <td>NaN</td>\n",
       "      <td>...</td>\n",
       "      <td>NaN</td>\n",
       "      <td>NaN</td>\n",
       "      <td>NaN</td>\n",
       "      <td>NaN</td>\n",
       "      <td>1.0</td>\n",
       "      <td>NaN</td>\n",
       "      <td>NaN</td>\n",
       "      <td>NaN</td>\n",
       "      <td>NaN</td>\n",
       "      <td>5000.0</td>\n",
       "    </tr>\n",
       "  </tbody>\n",
       "</table>\n",
       "<p>1 rows × 137 columns</p>\n",
       "</div>"
      ],
      "text/plain": [
       "        Age  AttendedBootcamp  BootcampFinish  BootcampLoanYesNo BootcampName  \\\n",
       "13659  24.0               1.0             0.0                0.0      Bloc.io   \n",
       "\n",
       "       BootcampRecommend  ChildrenNumber       CityPopulation  \\\n",
       "13659                1.0             NaN  more than 1 million   \n",
       "\n",
       "       CodeEventConferences  CodeEventDjangoGirls  ...  YouTubeFunFunFunction  \\\n",
       "13659                   1.0                   NaN  ...                    NaN   \n",
       "\n",
       "       YouTubeGoogleDev  YouTubeLearnCode  YouTubeLevelUpTuts  YouTubeMIT  \\\n",
       "13659               NaN               NaN                 NaN         1.0   \n",
       "\n",
       "       YouTubeMozillaHacks  YouTubeOther YouTubeSimplilearn  \\\n",
       "13659                  NaN           NaN                NaN   \n",
       "\n",
       "       YouTubeTheNewBoston  money_per_month  \n",
       "13659                  NaN           5000.0  \n",
       "\n",
       "[1 rows x 137 columns]"
      ]
     },
     "execution_count": 92,
     "metadata": {},
     "output_type": "execute_result"
    }
   ],
   "source": [
    "canada_outliers = relevant_countries[(relevant_countries[\"CountryLive\"]==\"Canada\") \n",
    "                                     & (relevant_countries[\"money_per_month\"]>4500)]\n",
    "canada_outliers"
   ]
  },
  {
   "cell_type": "code",
   "execution_count": 93,
   "metadata": {},
   "outputs": [
    {
     "data": {
      "text/plain": [
       "13659    2.0\n",
       "Name: MonthsProgramming, dtype: float64"
      ]
     },
     "execution_count": 93,
     "metadata": {},
     "output_type": "execute_result"
    }
   ],
   "source": [
    "canada_outliers[\"MonthsProgramming\"]"
   ]
  },
  {
   "cell_type": "markdown",
   "metadata": {},
   "source": [
    "This Canadian participant had been programming for two months when he completed the survey. He seems to have paid a large sum of money in the beginning to enroll in a bootcamp, and then perhaps did not spend anything for the next couple of months after the survey. We will remove his data. "
   ]
  },
  {
   "cell_type": "code",
   "execution_count": 94,
   "metadata": {},
   "outputs": [],
   "source": [
    "relevant_countries = relevant_countries.drop(canada_outliers.index)"
   ]
  },
  {
   "cell_type": "markdown",
   "metadata": {},
   "source": [
    "Next we'll look at Indian outliers as well. "
   ]
  },
  {
   "cell_type": "code",
   "execution_count": 95,
   "metadata": {},
   "outputs": [
    {
     "data": {
      "text/html": [
       "<div>\n",
       "<style scoped>\n",
       "    .dataframe tbody tr th:only-of-type {\n",
       "        vertical-align: middle;\n",
       "    }\n",
       "\n",
       "    .dataframe tbody tr th {\n",
       "        vertical-align: top;\n",
       "    }\n",
       "\n",
       "    .dataframe thead th {\n",
       "        text-align: right;\n",
       "    }\n",
       "</style>\n",
       "<table border=\"1\" class=\"dataframe\">\n",
       "  <thead>\n",
       "    <tr style=\"text-align: right;\">\n",
       "      <th></th>\n",
       "      <th>Age</th>\n",
       "      <th>AttendedBootcamp</th>\n",
       "      <th>BootcampFinish</th>\n",
       "      <th>BootcampLoanYesNo</th>\n",
       "      <th>BootcampName</th>\n",
       "      <th>BootcampRecommend</th>\n",
       "      <th>ChildrenNumber</th>\n",
       "      <th>CityPopulation</th>\n",
       "      <th>CodeEventConferences</th>\n",
       "      <th>CodeEventDjangoGirls</th>\n",
       "      <th>...</th>\n",
       "      <th>YouTubeFunFunFunction</th>\n",
       "      <th>YouTubeGoogleDev</th>\n",
       "      <th>YouTubeLearnCode</th>\n",
       "      <th>YouTubeLevelUpTuts</th>\n",
       "      <th>YouTubeMIT</th>\n",
       "      <th>YouTubeMozillaHacks</th>\n",
       "      <th>YouTubeOther</th>\n",
       "      <th>YouTubeSimplilearn</th>\n",
       "      <th>YouTubeTheNewBoston</th>\n",
       "      <th>money_per_month</th>\n",
       "    </tr>\n",
       "  </thead>\n",
       "  <tbody>\n",
       "    <tr>\n",
       "      <th>1728</th>\n",
       "      <td>24.0</td>\n",
       "      <td>0.0</td>\n",
       "      <td>NaN</td>\n",
       "      <td>NaN</td>\n",
       "      <td>NaN</td>\n",
       "      <td>NaN</td>\n",
       "      <td>NaN</td>\n",
       "      <td>between 100,000 and 1 million</td>\n",
       "      <td>NaN</td>\n",
       "      <td>NaN</td>\n",
       "      <td>...</td>\n",
       "      <td>NaN</td>\n",
       "      <td>NaN</td>\n",
       "      <td>NaN</td>\n",
       "      <td>NaN</td>\n",
       "      <td>NaN</td>\n",
       "      <td>NaN</td>\n",
       "      <td>NaN</td>\n",
       "      <td>NaN</td>\n",
       "      <td>NaN</td>\n",
       "      <td>5000.000000</td>\n",
       "    </tr>\n",
       "    <tr>\n",
       "      <th>1755</th>\n",
       "      <td>20.0</td>\n",
       "      <td>0.0</td>\n",
       "      <td>NaN</td>\n",
       "      <td>NaN</td>\n",
       "      <td>NaN</td>\n",
       "      <td>NaN</td>\n",
       "      <td>NaN</td>\n",
       "      <td>more than 1 million</td>\n",
       "      <td>NaN</td>\n",
       "      <td>NaN</td>\n",
       "      <td>...</td>\n",
       "      <td>NaN</td>\n",
       "      <td>NaN</td>\n",
       "      <td>1.0</td>\n",
       "      <td>NaN</td>\n",
       "      <td>1.0</td>\n",
       "      <td>NaN</td>\n",
       "      <td>NaN</td>\n",
       "      <td>NaN</td>\n",
       "      <td>NaN</td>\n",
       "      <td>3333.333333</td>\n",
       "    </tr>\n",
       "    <tr>\n",
       "      <th>7989</th>\n",
       "      <td>28.0</td>\n",
       "      <td>0.0</td>\n",
       "      <td>NaN</td>\n",
       "      <td>NaN</td>\n",
       "      <td>NaN</td>\n",
       "      <td>NaN</td>\n",
       "      <td>NaN</td>\n",
       "      <td>between 100,000 and 1 million</td>\n",
       "      <td>1.0</td>\n",
       "      <td>NaN</td>\n",
       "      <td>...</td>\n",
       "      <td>NaN</td>\n",
       "      <td>NaN</td>\n",
       "      <td>NaN</td>\n",
       "      <td>NaN</td>\n",
       "      <td>NaN</td>\n",
       "      <td>NaN</td>\n",
       "      <td>NaN</td>\n",
       "      <td>NaN</td>\n",
       "      <td>NaN</td>\n",
       "      <td>5000.000000</td>\n",
       "    </tr>\n",
       "    <tr>\n",
       "      <th>8126</th>\n",
       "      <td>22.0</td>\n",
       "      <td>0.0</td>\n",
       "      <td>NaN</td>\n",
       "      <td>NaN</td>\n",
       "      <td>NaN</td>\n",
       "      <td>NaN</td>\n",
       "      <td>NaN</td>\n",
       "      <td>more than 1 million</td>\n",
       "      <td>NaN</td>\n",
       "      <td>NaN</td>\n",
       "      <td>...</td>\n",
       "      <td>NaN</td>\n",
       "      <td>1.0</td>\n",
       "      <td>NaN</td>\n",
       "      <td>NaN</td>\n",
       "      <td>1.0</td>\n",
       "      <td>NaN</td>\n",
       "      <td>NaN</td>\n",
       "      <td>NaN</td>\n",
       "      <td>1.0</td>\n",
       "      <td>5000.000000</td>\n",
       "    </tr>\n",
       "    <tr>\n",
       "      <th>13398</th>\n",
       "      <td>19.0</td>\n",
       "      <td>0.0</td>\n",
       "      <td>NaN</td>\n",
       "      <td>NaN</td>\n",
       "      <td>NaN</td>\n",
       "      <td>NaN</td>\n",
       "      <td>NaN</td>\n",
       "      <td>more than 1 million</td>\n",
       "      <td>NaN</td>\n",
       "      <td>NaN</td>\n",
       "      <td>...</td>\n",
       "      <td>NaN</td>\n",
       "      <td>NaN</td>\n",
       "      <td>NaN</td>\n",
       "      <td>NaN</td>\n",
       "      <td>NaN</td>\n",
       "      <td>NaN</td>\n",
       "      <td>NaN</td>\n",
       "      <td>NaN</td>\n",
       "      <td>NaN</td>\n",
       "      <td>10000.000000</td>\n",
       "    </tr>\n",
       "    <tr>\n",
       "      <th>15587</th>\n",
       "      <td>27.0</td>\n",
       "      <td>0.0</td>\n",
       "      <td>NaN</td>\n",
       "      <td>NaN</td>\n",
       "      <td>NaN</td>\n",
       "      <td>NaN</td>\n",
       "      <td>NaN</td>\n",
       "      <td>more than 1 million</td>\n",
       "      <td>NaN</td>\n",
       "      <td>NaN</td>\n",
       "      <td>...</td>\n",
       "      <td>NaN</td>\n",
       "      <td>1.0</td>\n",
       "      <td>1.0</td>\n",
       "      <td>NaN</td>\n",
       "      <td>1.0</td>\n",
       "      <td>NaN</td>\n",
       "      <td>NaN</td>\n",
       "      <td>NaN</td>\n",
       "      <td>NaN</td>\n",
       "      <td>4166.666667</td>\n",
       "    </tr>\n",
       "  </tbody>\n",
       "</table>\n",
       "<p>6 rows × 137 columns</p>\n",
       "</div>"
      ],
      "text/plain": [
       "        Age  AttendedBootcamp  BootcampFinish  BootcampLoanYesNo BootcampName  \\\n",
       "1728   24.0               0.0             NaN                NaN          NaN   \n",
       "1755   20.0               0.0             NaN                NaN          NaN   \n",
       "7989   28.0               0.0             NaN                NaN          NaN   \n",
       "8126   22.0               0.0             NaN                NaN          NaN   \n",
       "13398  19.0               0.0             NaN                NaN          NaN   \n",
       "15587  27.0               0.0             NaN                NaN          NaN   \n",
       "\n",
       "       BootcampRecommend  ChildrenNumber                 CityPopulation  \\\n",
       "1728                 NaN             NaN  between 100,000 and 1 million   \n",
       "1755                 NaN             NaN            more than 1 million   \n",
       "7989                 NaN             NaN  between 100,000 and 1 million   \n",
       "8126                 NaN             NaN            more than 1 million   \n",
       "13398                NaN             NaN            more than 1 million   \n",
       "15587                NaN             NaN            more than 1 million   \n",
       "\n",
       "       CodeEventConferences  CodeEventDjangoGirls  ...  YouTubeFunFunFunction  \\\n",
       "1728                    NaN                   NaN  ...                    NaN   \n",
       "1755                    NaN                   NaN  ...                    NaN   \n",
       "7989                    1.0                   NaN  ...                    NaN   \n",
       "8126                    NaN                   NaN  ...                    NaN   \n",
       "13398                   NaN                   NaN  ...                    NaN   \n",
       "15587                   NaN                   NaN  ...                    NaN   \n",
       "\n",
       "       YouTubeGoogleDev  YouTubeLearnCode  YouTubeLevelUpTuts  YouTubeMIT  \\\n",
       "1728                NaN               NaN                 NaN         NaN   \n",
       "1755                NaN               1.0                 NaN         1.0   \n",
       "7989                NaN               NaN                 NaN         NaN   \n",
       "8126                1.0               NaN                 NaN         1.0   \n",
       "13398               NaN               NaN                 NaN         NaN   \n",
       "15587               1.0               1.0                 NaN         1.0   \n",
       "\n",
       "       YouTubeMozillaHacks  YouTubeOther YouTubeSimplilearn  \\\n",
       "1728                   NaN           NaN                NaN   \n",
       "1755                   NaN           NaN                NaN   \n",
       "7989                   NaN           NaN                NaN   \n",
       "8126                   NaN           NaN                NaN   \n",
       "13398                  NaN           NaN                NaN   \n",
       "15587                  NaN           NaN                NaN   \n",
       "\n",
       "       YouTubeTheNewBoston  money_per_month  \n",
       "1728                   NaN      5000.000000  \n",
       "1755                   NaN      3333.333333  \n",
       "7989                   NaN      5000.000000  \n",
       "8126                   1.0      5000.000000  \n",
       "13398                  NaN     10000.000000  \n",
       "15587                  NaN      4166.666667  \n",
       "\n",
       "[6 rows x 137 columns]"
      ]
     },
     "execution_count": 95,
     "metadata": {},
     "output_type": "execute_result"
    }
   ],
   "source": [
    "india_outliers = relevant_countries[(relevant_countries[\"CountryLive\"]==\"India\") \n",
    "                                     & (relevant_countries[\"money_per_month\"]>2500)]\n",
    "india_outliers"
   ]
  },
  {
   "cell_type": "markdown",
   "metadata": {},
   "source": [
    "None of the above survey participants attended a bootcamp, so it seems odd they would spend such large monthly amounts on learning. The survey question asked was \"Aside from university tuition, about how much money have you spent on learning to code so far (in US dollars)?\" Perhaps, there's a possibility they mistakenly included university tuition. In any case, it's safer to remove these rows. "
   ]
  },
  {
   "cell_type": "code",
   "execution_count": 96,
   "metadata": {},
   "outputs": [],
   "source": [
    "relevant_countries = relevant_countries.drop(india_outliers.index)"
   ]
  },
  {
   "cell_type": "markdown",
   "metadata": {},
   "source": [
    "Finally, let's take a second look at US outliers."
   ]
  },
  {
   "cell_type": "code",
   "execution_count": 97,
   "metadata": {},
   "outputs": [
    {
     "data": {
      "text/html": [
       "<div>\n",
       "<style scoped>\n",
       "    .dataframe tbody tr th:only-of-type {\n",
       "        vertical-align: middle;\n",
       "    }\n",
       "\n",
       "    .dataframe tbody tr th {\n",
       "        vertical-align: top;\n",
       "    }\n",
       "\n",
       "    .dataframe thead th {\n",
       "        text-align: right;\n",
       "    }\n",
       "</style>\n",
       "<table border=\"1\" class=\"dataframe\">\n",
       "  <thead>\n",
       "    <tr style=\"text-align: right;\">\n",
       "      <th></th>\n",
       "      <th>Age</th>\n",
       "      <th>AttendedBootcamp</th>\n",
       "      <th>BootcampFinish</th>\n",
       "      <th>BootcampLoanYesNo</th>\n",
       "      <th>BootcampName</th>\n",
       "      <th>BootcampRecommend</th>\n",
       "      <th>ChildrenNumber</th>\n",
       "      <th>CityPopulation</th>\n",
       "      <th>CodeEventConferences</th>\n",
       "      <th>CodeEventDjangoGirls</th>\n",
       "      <th>...</th>\n",
       "      <th>YouTubeFunFunFunction</th>\n",
       "      <th>YouTubeGoogleDev</th>\n",
       "      <th>YouTubeLearnCode</th>\n",
       "      <th>YouTubeLevelUpTuts</th>\n",
       "      <th>YouTubeMIT</th>\n",
       "      <th>YouTubeMozillaHacks</th>\n",
       "      <th>YouTubeOther</th>\n",
       "      <th>YouTubeSimplilearn</th>\n",
       "      <th>YouTubeTheNewBoston</th>\n",
       "      <th>money_per_month</th>\n",
       "    </tr>\n",
       "  </thead>\n",
       "  <tbody>\n",
       "    <tr>\n",
       "      <th>718</th>\n",
       "      <td>26.0</td>\n",
       "      <td>1.0</td>\n",
       "      <td>0.0</td>\n",
       "      <td>0.0</td>\n",
       "      <td>The Coding Boot Camp at UCLA Extension</td>\n",
       "      <td>1.0</td>\n",
       "      <td>NaN</td>\n",
       "      <td>more than 1 million</td>\n",
       "      <td>1.0</td>\n",
       "      <td>NaN</td>\n",
       "      <td>...</td>\n",
       "      <td>NaN</td>\n",
       "      <td>NaN</td>\n",
       "      <td>NaN</td>\n",
       "      <td>NaN</td>\n",
       "      <td>NaN</td>\n",
       "      <td>NaN</td>\n",
       "      <td>NaN</td>\n",
       "      <td>NaN</td>\n",
       "      <td>NaN</td>\n",
       "      <td>8000.000000</td>\n",
       "    </tr>\n",
       "    <tr>\n",
       "      <th>1222</th>\n",
       "      <td>32.0</td>\n",
       "      <td>1.0</td>\n",
       "      <td>0.0</td>\n",
       "      <td>0.0</td>\n",
       "      <td>The Iron Yard</td>\n",
       "      <td>1.0</td>\n",
       "      <td>NaN</td>\n",
       "      <td>between 100,000 and 1 million</td>\n",
       "      <td>NaN</td>\n",
       "      <td>NaN</td>\n",
       "      <td>...</td>\n",
       "      <td>NaN</td>\n",
       "      <td>NaN</td>\n",
       "      <td>1.0</td>\n",
       "      <td>NaN</td>\n",
       "      <td>NaN</td>\n",
       "      <td>NaN</td>\n",
       "      <td>NaN</td>\n",
       "      <td>NaN</td>\n",
       "      <td>NaN</td>\n",
       "      <td>6500.000000</td>\n",
       "    </tr>\n",
       "    <tr>\n",
       "      <th>3184</th>\n",
       "      <td>34.0</td>\n",
       "      <td>1.0</td>\n",
       "      <td>1.0</td>\n",
       "      <td>0.0</td>\n",
       "      <td>We Can Code IT</td>\n",
       "      <td>1.0</td>\n",
       "      <td>NaN</td>\n",
       "      <td>more than 1 million</td>\n",
       "      <td>NaN</td>\n",
       "      <td>NaN</td>\n",
       "      <td>...</td>\n",
       "      <td>NaN</td>\n",
       "      <td>NaN</td>\n",
       "      <td>NaN</td>\n",
       "      <td>NaN</td>\n",
       "      <td>NaN</td>\n",
       "      <td>NaN</td>\n",
       "      <td>NaN</td>\n",
       "      <td>NaN</td>\n",
       "      <td>NaN</td>\n",
       "      <td>9000.000000</td>\n",
       "    </tr>\n",
       "    <tr>\n",
       "      <th>3930</th>\n",
       "      <td>31.0</td>\n",
       "      <td>0.0</td>\n",
       "      <td>NaN</td>\n",
       "      <td>NaN</td>\n",
       "      <td>NaN</td>\n",
       "      <td>NaN</td>\n",
       "      <td>NaN</td>\n",
       "      <td>between 100,000 and 1 million</td>\n",
       "      <td>NaN</td>\n",
       "      <td>NaN</td>\n",
       "      <td>...</td>\n",
       "      <td>1.0</td>\n",
       "      <td>1.0</td>\n",
       "      <td>1.0</td>\n",
       "      <td>1.0</td>\n",
       "      <td>1.0</td>\n",
       "      <td>NaN</td>\n",
       "      <td>various conf presentations</td>\n",
       "      <td>NaN</td>\n",
       "      <td>NaN</td>\n",
       "      <td>10833.333333</td>\n",
       "    </tr>\n",
       "    <tr>\n",
       "      <th>6805</th>\n",
       "      <td>46.0</td>\n",
       "      <td>1.0</td>\n",
       "      <td>1.0</td>\n",
       "      <td>1.0</td>\n",
       "      <td>Sabio.la</td>\n",
       "      <td>0.0</td>\n",
       "      <td>NaN</td>\n",
       "      <td>between 100,000 and 1 million</td>\n",
       "      <td>NaN</td>\n",
       "      <td>NaN</td>\n",
       "      <td>...</td>\n",
       "      <td>NaN</td>\n",
       "      <td>NaN</td>\n",
       "      <td>NaN</td>\n",
       "      <td>NaN</td>\n",
       "      <td>NaN</td>\n",
       "      <td>NaN</td>\n",
       "      <td>NaN</td>\n",
       "      <td>NaN</td>\n",
       "      <td>NaN</td>\n",
       "      <td>15000.000000</td>\n",
       "    </tr>\n",
       "    <tr>\n",
       "      <th>7198</th>\n",
       "      <td>32.0</td>\n",
       "      <td>0.0</td>\n",
       "      <td>NaN</td>\n",
       "      <td>NaN</td>\n",
       "      <td>NaN</td>\n",
       "      <td>NaN</td>\n",
       "      <td>NaN</td>\n",
       "      <td>more than 1 million</td>\n",
       "      <td>1.0</td>\n",
       "      <td>NaN</td>\n",
       "      <td>...</td>\n",
       "      <td>NaN</td>\n",
       "      <td>1.0</td>\n",
       "      <td>1.0</td>\n",
       "      <td>1.0</td>\n",
       "      <td>NaN</td>\n",
       "      <td>NaN</td>\n",
       "      <td>NaN</td>\n",
       "      <td>NaN</td>\n",
       "      <td>NaN</td>\n",
       "      <td>14000.000000</td>\n",
       "    </tr>\n",
       "    <tr>\n",
       "      <th>7505</th>\n",
       "      <td>26.0</td>\n",
       "      <td>1.0</td>\n",
       "      <td>0.0</td>\n",
       "      <td>1.0</td>\n",
       "      <td>Codeup</td>\n",
       "      <td>0.0</td>\n",
       "      <td>NaN</td>\n",
       "      <td>more than 1 million</td>\n",
       "      <td>NaN</td>\n",
       "      <td>NaN</td>\n",
       "      <td>...</td>\n",
       "      <td>NaN</td>\n",
       "      <td>NaN</td>\n",
       "      <td>NaN</td>\n",
       "      <td>NaN</td>\n",
       "      <td>1.0</td>\n",
       "      <td>NaN</td>\n",
       "      <td>NaN</td>\n",
       "      <td>NaN</td>\n",
       "      <td>NaN</td>\n",
       "      <td>6666.666667</td>\n",
       "    </tr>\n",
       "    <tr>\n",
       "      <th>9778</th>\n",
       "      <td>33.0</td>\n",
       "      <td>1.0</td>\n",
       "      <td>0.0</td>\n",
       "      <td>1.0</td>\n",
       "      <td>Grand Circus</td>\n",
       "      <td>1.0</td>\n",
       "      <td>NaN</td>\n",
       "      <td>between 100,000 and 1 million</td>\n",
       "      <td>NaN</td>\n",
       "      <td>NaN</td>\n",
       "      <td>...</td>\n",
       "      <td>NaN</td>\n",
       "      <td>NaN</td>\n",
       "      <td>NaN</td>\n",
       "      <td>NaN</td>\n",
       "      <td>NaN</td>\n",
       "      <td>NaN</td>\n",
       "      <td>NaN</td>\n",
       "      <td>NaN</td>\n",
       "      <td>NaN</td>\n",
       "      <td>8000.000000</td>\n",
       "    </tr>\n",
       "    <tr>\n",
       "      <th>16650</th>\n",
       "      <td>29.0</td>\n",
       "      <td>0.0</td>\n",
       "      <td>NaN</td>\n",
       "      <td>NaN</td>\n",
       "      <td>NaN</td>\n",
       "      <td>NaN</td>\n",
       "      <td>2.0</td>\n",
       "      <td>more than 1 million</td>\n",
       "      <td>NaN</td>\n",
       "      <td>NaN</td>\n",
       "      <td>...</td>\n",
       "      <td>NaN</td>\n",
       "      <td>NaN</td>\n",
       "      <td>NaN</td>\n",
       "      <td>NaN</td>\n",
       "      <td>NaN</td>\n",
       "      <td>NaN</td>\n",
       "      <td>NaN</td>\n",
       "      <td>NaN</td>\n",
       "      <td>1.0</td>\n",
       "      <td>16666.666667</td>\n",
       "    </tr>\n",
       "    <tr>\n",
       "      <th>16997</th>\n",
       "      <td>27.0</td>\n",
       "      <td>0.0</td>\n",
       "      <td>NaN</td>\n",
       "      <td>NaN</td>\n",
       "      <td>NaN</td>\n",
       "      <td>NaN</td>\n",
       "      <td>1.0</td>\n",
       "      <td>more than 1 million</td>\n",
       "      <td>NaN</td>\n",
       "      <td>NaN</td>\n",
       "      <td>...</td>\n",
       "      <td>NaN</td>\n",
       "      <td>NaN</td>\n",
       "      <td>NaN</td>\n",
       "      <td>NaN</td>\n",
       "      <td>NaN</td>\n",
       "      <td>NaN</td>\n",
       "      <td>NaN</td>\n",
       "      <td>NaN</td>\n",
       "      <td>NaN</td>\n",
       "      <td>12500.000000</td>\n",
       "    </tr>\n",
       "    <tr>\n",
       "      <th>17231</th>\n",
       "      <td>50.0</td>\n",
       "      <td>0.0</td>\n",
       "      <td>NaN</td>\n",
       "      <td>NaN</td>\n",
       "      <td>NaN</td>\n",
       "      <td>NaN</td>\n",
       "      <td>2.0</td>\n",
       "      <td>less than 100,000</td>\n",
       "      <td>NaN</td>\n",
       "      <td>NaN</td>\n",
       "      <td>...</td>\n",
       "      <td>NaN</td>\n",
       "      <td>NaN</td>\n",
       "      <td>NaN</td>\n",
       "      <td>NaN</td>\n",
       "      <td>NaN</td>\n",
       "      <td>NaN</td>\n",
       "      <td>NaN</td>\n",
       "      <td>NaN</td>\n",
       "      <td>NaN</td>\n",
       "      <td>15000.000000</td>\n",
       "    </tr>\n",
       "  </tbody>\n",
       "</table>\n",
       "<p>11 rows × 137 columns</p>\n",
       "</div>"
      ],
      "text/plain": [
       "        Age  AttendedBootcamp  BootcampFinish  BootcampLoanYesNo  \\\n",
       "718    26.0               1.0             0.0                0.0   \n",
       "1222   32.0               1.0             0.0                0.0   \n",
       "3184   34.0               1.0             1.0                0.0   \n",
       "3930   31.0               0.0             NaN                NaN   \n",
       "6805   46.0               1.0             1.0                1.0   \n",
       "7198   32.0               0.0             NaN                NaN   \n",
       "7505   26.0               1.0             0.0                1.0   \n",
       "9778   33.0               1.0             0.0                1.0   \n",
       "16650  29.0               0.0             NaN                NaN   \n",
       "16997  27.0               0.0             NaN                NaN   \n",
       "17231  50.0               0.0             NaN                NaN   \n",
       "\n",
       "                                 BootcampName  BootcampRecommend  \\\n",
       "718    The Coding Boot Camp at UCLA Extension                1.0   \n",
       "1222                            The Iron Yard                1.0   \n",
       "3184                           We Can Code IT                1.0   \n",
       "3930                                      NaN                NaN   \n",
       "6805                                 Sabio.la                0.0   \n",
       "7198                                      NaN                NaN   \n",
       "7505                                   Codeup                0.0   \n",
       "9778                             Grand Circus                1.0   \n",
       "16650                                     NaN                NaN   \n",
       "16997                                     NaN                NaN   \n",
       "17231                                     NaN                NaN   \n",
       "\n",
       "       ChildrenNumber                 CityPopulation  CodeEventConferences  \\\n",
       "718               NaN            more than 1 million                   1.0   \n",
       "1222              NaN  between 100,000 and 1 million                   NaN   \n",
       "3184              NaN            more than 1 million                   NaN   \n",
       "3930              NaN  between 100,000 and 1 million                   NaN   \n",
       "6805              NaN  between 100,000 and 1 million                   NaN   \n",
       "7198              NaN            more than 1 million                   1.0   \n",
       "7505              NaN            more than 1 million                   NaN   \n",
       "9778              NaN  between 100,000 and 1 million                   NaN   \n",
       "16650             2.0            more than 1 million                   NaN   \n",
       "16997             1.0            more than 1 million                   NaN   \n",
       "17231             2.0              less than 100,000                   NaN   \n",
       "\n",
       "       CodeEventDjangoGirls  ...  YouTubeFunFunFunction  YouTubeGoogleDev  \\\n",
       "718                     NaN  ...                    NaN               NaN   \n",
       "1222                    NaN  ...                    NaN               NaN   \n",
       "3184                    NaN  ...                    NaN               NaN   \n",
       "3930                    NaN  ...                    1.0               1.0   \n",
       "6805                    NaN  ...                    NaN               NaN   \n",
       "7198                    NaN  ...                    NaN               1.0   \n",
       "7505                    NaN  ...                    NaN               NaN   \n",
       "9778                    NaN  ...                    NaN               NaN   \n",
       "16650                   NaN  ...                    NaN               NaN   \n",
       "16997                   NaN  ...                    NaN               NaN   \n",
       "17231                   NaN  ...                    NaN               NaN   \n",
       "\n",
       "       YouTubeLearnCode  YouTubeLevelUpTuts  YouTubeMIT  YouTubeMozillaHacks  \\\n",
       "718                 NaN                 NaN         NaN                  NaN   \n",
       "1222                1.0                 NaN         NaN                  NaN   \n",
       "3184                NaN                 NaN         NaN                  NaN   \n",
       "3930                1.0                 1.0         1.0                  NaN   \n",
       "6805                NaN                 NaN         NaN                  NaN   \n",
       "7198                1.0                 1.0         NaN                  NaN   \n",
       "7505                NaN                 NaN         1.0                  NaN   \n",
       "9778                NaN                 NaN         NaN                  NaN   \n",
       "16650               NaN                 NaN         NaN                  NaN   \n",
       "16997               NaN                 NaN         NaN                  NaN   \n",
       "17231               NaN                 NaN         NaN                  NaN   \n",
       "\n",
       "                     YouTubeOther YouTubeSimplilearn  YouTubeTheNewBoston  \\\n",
       "718                           NaN                NaN                  NaN   \n",
       "1222                          NaN                NaN                  NaN   \n",
       "3184                          NaN                NaN                  NaN   \n",
       "3930   various conf presentations                NaN                  NaN   \n",
       "6805                          NaN                NaN                  NaN   \n",
       "7198                          NaN                NaN                  NaN   \n",
       "7505                          NaN                NaN                  NaN   \n",
       "9778                          NaN                NaN                  NaN   \n",
       "16650                         NaN                NaN                  1.0   \n",
       "16997                         NaN                NaN                  NaN   \n",
       "17231                         NaN                NaN                  NaN   \n",
       "\n",
       "       money_per_month  \n",
       "718        8000.000000  \n",
       "1222       6500.000000  \n",
       "3184       9000.000000  \n",
       "3930      10833.333333  \n",
       "6805      15000.000000  \n",
       "7198      14000.000000  \n",
       "7505       6666.666667  \n",
       "9778       8000.000000  \n",
       "16650     16666.666667  \n",
       "16997     12500.000000  \n",
       "17231     15000.000000  \n",
       "\n",
       "[11 rows x 137 columns]"
      ]
     },
     "execution_count": 97,
     "metadata": {},
     "output_type": "execute_result"
    }
   ],
   "source": [
    "us_outliers = relevant_countries[(relevant_countries[\"CountryLive\"]==\"United States of America\") \n",
    "                                     & (relevant_countries[\"money_per_month\"]>6000)]\n",
    "\n",
    "us_outliers"
   ]
  },
  {
   "cell_type": "markdown",
   "metadata": {},
   "source": [
    "Out of these 11 outliers, 6 people attended bootcamps, which justifies the large sum spent on learning. For the other 5, it's difficult to figure out from the dataset where they could have spent such a large sum on learning, so will remove them from our sample. Additionally, 8 people were programming for no more than three months when they completed the survey. They most likely paid a large sum of money for a bootcamp that was going to last for several months, so the amount of money spent per month is unrealistic and should be significantly lower (as they probably didn't spend anything for the next couple of months after the survey). So, we will remove them as well."
   ]
  },
  {
   "cell_type": "code",
   "execution_count": 98,
   "metadata": {},
   "outputs": [],
   "source": [
    "relevant_countries = relevant_countries.drop(us_outliers.index)"
   ]
  },
  {
   "cell_type": "code",
   "execution_count": 100,
   "metadata": {},
   "outputs": [
    {
     "name": "stdout",
     "output_type": "stream",
     "text": [
      "CountryLive\n",
      "Canada                       93.065400\n",
      "India                        65.758763\n",
      "United Kingdom               45.534443\n",
      "United States of America    142.654608\n",
      "Name: money_per_month, dtype: float64\n"
     ]
    },
    {
     "data": {
      "image/png": "[encoded data removed]",
      "text/plain": [
       "<Figure size 640x480 with 1 Axes>"
      ]
     },
     "metadata": {},
     "output_type": "display_data"
    }
   ],
   "source": [
    "# Recompute mean sum of money spent by students each month, now that extreme outliers are removed\n",
    "print(relevant_countries.groupby(\"CountryLive\")[\"money_per_month\"].mean())\n",
    "\n",
    "sns.boxplot(y=\"money_per_month\", x=\"CountryLive\", data=relevant_countries)\n",
    "plt.title(\"Money Spent Per Month Per Country\\n(Distributions)\")\n",
    "plt.ylabel(\"Money Spent per Month (US Dollars)\")\n",
    "plt.xlabel(\"Country\")\n",
    "plt.xticks(range(4),[\"US\",\"UK\",\"India\",\"Canada\"]) #avoid tick label overlapping text\n",
    "plt.show()"
   ]
  },
  {
   "cell_type": "markdown",
   "metadata": {},
   "source": [
    "<h3>Choosing the Two Best Markets<h3>"
   ]
  },
  {
   "cell_type": "markdown",
   "metadata": {},
   "source": [
    "Based on the above, one country we should advertise in is the US. Lots of new coders live there and they are willing to pay a good amount of money each month (roughly $143). The UK is the least potentially lucarative option and can be eliminated. \n",
    "\n",
    "Let's take a look at one other view of the data before deciding whether Canada or India is the second best option. "
   ]
  },
  {
   "cell_type": "code",
   "execution_count": 101,
   "metadata": {},
   "outputs": [
    {
     "data": {
      "text/plain": [
       "United States of America    74.967908\n",
       "India                       11.732991\n",
       "United Kingdom               7.163030\n",
       "Canada                       6.136072\n",
       "Name: CountryLive, dtype: float64"
      ]
     },
     "execution_count": 101,
     "metadata": {},
     "output_type": "execute_result"
    }
   ],
   "source": [
    "relevant_countries[\"CountryLive\"].value_counts(normalize=True)*100"
   ]
  },
  {
   "cell_type": "markdown",
   "metadata": {},
   "source": [
    "Although it seems more tempting to choose Canada, there are good chances that India might actually be a better choice because of the large number of potential customers."
   ]
  },
  {
   "cell_type": "markdown",
   "metadata": {},
   "source": [
    "<h3>Advertising Campaign Recommendations<h3>"
   ]
  },
  {
   "cell_type": "markdown",
   "metadata": {},
   "source": [
    "Below are our potential options:\n",
    "\n",
    "Advertise in the US, India, and Canada by splitting the advertisement budget in various combinations:<br>\n",
    "•60% for the US, 25% for India, 15% for Canada.<br>\n",
    "•50% for the US, 30% for India, 20% for Canada; etc.<br>\n",
    "<br>\n",
    "Advertise only in the US and India, or the US and Canada. Again, it makes sense to split the advertisement budget unequally. For instance:\n",
    "•70% for the US, and 30% for India.<br>\n",
    "•65% for the US, and 35% for Canada; etc.<br>\n",
    "<br>\n",
    "Advertise only in the US."
   ]
  }
 ],
 "metadata": {
  "kernelspec": {
   "display_name": "Python 3 (ipykernel)",
   "language": "python",
   "name": "python3"
  },
  "language_info": {
   "codemirror_mode": {
    "name": "ipython",
    "version": 3
   },
   "file_extension": ".py",
   "mimetype": "text/x-python",
   "name": "python",
   "nbconvert_exporter": "python",
   "pygments_lexer": "ipython3",
   "version": "3.10.9"
  }
 },
 "nbformat": 4,
 "nbformat_minor": 2
}
